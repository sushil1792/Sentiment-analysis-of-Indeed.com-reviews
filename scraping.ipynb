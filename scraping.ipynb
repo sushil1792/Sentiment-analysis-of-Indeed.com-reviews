{
 "cells": [
  {
   "cell_type": "code",
   "execution_count": 172,
   "metadata": {},
   "outputs": [],
   "source": [
    "import pandas as pd\n",
    "import time\n",
    "import urllib\n",
    "import bs4 as bs\n",
    "from bs4 import SoupStrainer\n",
    "pd.set_option('display.max_colwidth', 10000)"
   ]
  },
  {
   "cell_type": "code",
   "execution_count": 173,
   "metadata": {},
   "outputs": [],
   "source": [
    "from bs4 import BeautifulSoup\n",
    "import urllib.request, urllib.error, urllib.parse"
   ]
  },
  {
   "cell_type": "code",
   "execution_count": 174,
   "metadata": {},
   "outputs": [],
   "source": [
    "#url = 'https://www.indeed.com/cmp/Southwest-Airlines/reviews'"
   ]
  },
  {
   "cell_type": "code",
   "execution_count": 175,
   "metadata": {},
   "outputs": [],
   "source": [
    "#x=\"\"\n",
    "#try:\n",
    "#    x = infotable[0].find_all('div',class_='cmp-review-pro-text')[0].getText()\n",
    "#except:\n",
    "#    x = 'Null'\n",
    "#print(x)"
   ]
  },
  {
   "cell_type": "code",
   "execution_count": null,
   "metadata": {},
   "outputs": [],
   "source": [
    "#HTML = []\n",
    "#for url in urls:\n",
    "#    html = urllib.request.urlopen(url).read().decode('utf-8')\n",
    "#    HTML.append(html)"
   ]
  },
  {
   "cell_type": "code",
   "execution_count": 21,
   "metadata": {},
   "outputs": [],
   "source": [
    "urls=[]\n",
    "i = 1\n",
    "cnt=0\n",
    "while cnt < 2214:\n",
    "    url = 'https://www.indeed.com/cmp/United-Airlines/reviews?start=' + str(cnt)\n",
    "    urls.append(url)\n",
    "    cnt+=20    "
   ]
  },
  {
   "cell_type": "code",
   "execution_count": 16,
   "metadata": {},
   "outputs": [
    {
     "name": "stdout",
     "output_type": "stream",
     "text": [
      "https://www.indeed.com/cmp/United-Airlines/reviews?start=0\n",
      "https://www.indeed.com/cmp/United-Airlines/reviews?start=20\n",
      "https://www.indeed.com/cmp/United-Airlines/reviews?start=40\n",
      "https://www.indeed.com/cmp/United-Airlines/reviews?start=60\n",
      "https://www.indeed.com/cmp/United-Airlines/reviews?start=80\n",
      "https://www.indeed.com/cmp/United-Airlines/reviews?start=100\n",
      "https://www.indeed.com/cmp/United-Airlines/reviews?start=120\n",
      "https://www.indeed.com/cmp/United-Airlines/reviews?start=140\n",
      "https://www.indeed.com/cmp/United-Airlines/reviews?start=160\n",
      "https://www.indeed.com/cmp/United-Airlines/reviews?start=180\n",
      "https://www.indeed.com/cmp/United-Airlines/reviews?start=200\n",
      "https://www.indeed.com/cmp/United-Airlines/reviews?start=220\n",
      "https://www.indeed.com/cmp/United-Airlines/reviews?start=240\n",
      "https://www.indeed.com/cmp/United-Airlines/reviews?start=260\n",
      "https://www.indeed.com/cmp/United-Airlines/reviews?start=280\n",
      "https://www.indeed.com/cmp/United-Airlines/reviews?start=300\n",
      "https://www.indeed.com/cmp/United-Airlines/reviews?start=320\n",
      "https://www.indeed.com/cmp/United-Airlines/reviews?start=340\n",
      "https://www.indeed.com/cmp/United-Airlines/reviews?start=360\n",
      "https://www.indeed.com/cmp/United-Airlines/reviews?start=380\n",
      "https://www.indeed.com/cmp/United-Airlines/reviews?start=400\n",
      "https://www.indeed.com/cmp/United-Airlines/reviews?start=420\n",
      "https://www.indeed.com/cmp/United-Airlines/reviews?start=440\n",
      "https://www.indeed.com/cmp/United-Airlines/reviews?start=460\n",
      "https://www.indeed.com/cmp/United-Airlines/reviews?start=480\n",
      "https://www.indeed.com/cmp/United-Airlines/reviews?start=500\n",
      "https://www.indeed.com/cmp/United-Airlines/reviews?start=520\n",
      "https://www.indeed.com/cmp/United-Airlines/reviews?start=540\n",
      "https://www.indeed.com/cmp/United-Airlines/reviews?start=560\n",
      "https://www.indeed.com/cmp/United-Airlines/reviews?start=580\n",
      "https://www.indeed.com/cmp/United-Airlines/reviews?start=600\n",
      "https://www.indeed.com/cmp/United-Airlines/reviews?start=620\n",
      "https://www.indeed.com/cmp/United-Airlines/reviews?start=640\n",
      "https://www.indeed.com/cmp/United-Airlines/reviews?start=660\n",
      "https://www.indeed.com/cmp/United-Airlines/reviews?start=680\n",
      "https://www.indeed.com/cmp/United-Airlines/reviews?start=700\n",
      "https://www.indeed.com/cmp/United-Airlines/reviews?start=720\n",
      "https://www.indeed.com/cmp/United-Airlines/reviews?start=740\n",
      "https://www.indeed.com/cmp/United-Airlines/reviews?start=760\n",
      "https://www.indeed.com/cmp/United-Airlines/reviews?start=780\n",
      "https://www.indeed.com/cmp/United-Airlines/reviews?start=800\n",
      "https://www.indeed.com/cmp/United-Airlines/reviews?start=820\n",
      "https://www.indeed.com/cmp/United-Airlines/reviews?start=840\n",
      "https://www.indeed.com/cmp/United-Airlines/reviews?start=860\n",
      "https://www.indeed.com/cmp/United-Airlines/reviews?start=880\n",
      "https://www.indeed.com/cmp/United-Airlines/reviews?start=900\n",
      "https://www.indeed.com/cmp/United-Airlines/reviews?start=920\n",
      "https://www.indeed.com/cmp/United-Airlines/reviews?start=940\n",
      "https://www.indeed.com/cmp/United-Airlines/reviews?start=960\n",
      "https://www.indeed.com/cmp/United-Airlines/reviews?start=980\n",
      "https://www.indeed.com/cmp/United-Airlines/reviews?start=1000\n",
      "https://www.indeed.com/cmp/United-Airlines/reviews?start=1020\n",
      "https://www.indeed.com/cmp/United-Airlines/reviews?start=1040\n",
      "https://www.indeed.com/cmp/United-Airlines/reviews?start=1060\n",
      "https://www.indeed.com/cmp/United-Airlines/reviews?start=1080\n",
      "https://www.indeed.com/cmp/United-Airlines/reviews?start=1100\n",
      "https://www.indeed.com/cmp/United-Airlines/reviews?start=1120\n",
      "https://www.indeed.com/cmp/United-Airlines/reviews?start=1140\n",
      "https://www.indeed.com/cmp/United-Airlines/reviews?start=1160\n",
      "https://www.indeed.com/cmp/United-Airlines/reviews?start=1180\n",
      "https://www.indeed.com/cmp/United-Airlines/reviews?start=1200\n",
      "https://www.indeed.com/cmp/United-Airlines/reviews?start=1220\n",
      "https://www.indeed.com/cmp/United-Airlines/reviews?start=1240\n",
      "https://www.indeed.com/cmp/United-Airlines/reviews?start=1260\n",
      "https://www.indeed.com/cmp/United-Airlines/reviews?start=1280\n",
      "https://www.indeed.com/cmp/United-Airlines/reviews?start=1300\n",
      "https://www.indeed.com/cmp/United-Airlines/reviews?start=1320\n",
      "https://www.indeed.com/cmp/United-Airlines/reviews?start=1340\n",
      "https://www.indeed.com/cmp/United-Airlines/reviews?start=1360\n",
      "https://www.indeed.com/cmp/United-Airlines/reviews?start=1380\n",
      "https://www.indeed.com/cmp/United-Airlines/reviews?start=1400\n",
      "https://www.indeed.com/cmp/United-Airlines/reviews?start=1420\n",
      "https://www.indeed.com/cmp/United-Airlines/reviews?start=1440\n",
      "https://www.indeed.com/cmp/United-Airlines/reviews?start=1460\n",
      "https://www.indeed.com/cmp/United-Airlines/reviews?start=1480\n",
      "https://www.indeed.com/cmp/United-Airlines/reviews?start=1500\n",
      "https://www.indeed.com/cmp/United-Airlines/reviews?start=1520\n",
      "https://www.indeed.com/cmp/United-Airlines/reviews?start=1540\n",
      "https://www.indeed.com/cmp/United-Airlines/reviews?start=1560\n",
      "https://www.indeed.com/cmp/United-Airlines/reviews?start=1580\n",
      "https://www.indeed.com/cmp/United-Airlines/reviews?start=1600\n",
      "https://www.indeed.com/cmp/United-Airlines/reviews?start=1620\n",
      "https://www.indeed.com/cmp/United-Airlines/reviews?start=1640\n",
      "https://www.indeed.com/cmp/United-Airlines/reviews?start=1660\n",
      "https://www.indeed.com/cmp/United-Airlines/reviews?start=1680\n",
      "https://www.indeed.com/cmp/United-Airlines/reviews?start=1700\n",
      "https://www.indeed.com/cmp/United-Airlines/reviews?start=1720\n",
      "https://www.indeed.com/cmp/United-Airlines/reviews?start=1740\n",
      "https://www.indeed.com/cmp/United-Airlines/reviews?start=1760\n",
      "https://www.indeed.com/cmp/United-Airlines/reviews?start=1780\n",
      "https://www.indeed.com/cmp/United-Airlines/reviews?start=1800\n",
      "https://www.indeed.com/cmp/United-Airlines/reviews?start=1820\n",
      "https://www.indeed.com/cmp/United-Airlines/reviews?start=1840\n",
      "https://www.indeed.com/cmp/United-Airlines/reviews?start=1860\n",
      "https://www.indeed.com/cmp/United-Airlines/reviews?start=1880\n",
      "https://www.indeed.com/cmp/United-Airlines/reviews?start=1900\n",
      "https://www.indeed.com/cmp/United-Airlines/reviews?start=1920\n",
      "https://www.indeed.com/cmp/United-Airlines/reviews?start=1940\n",
      "https://www.indeed.com/cmp/United-Airlines/reviews?start=1960\n",
      "https://www.indeed.com/cmp/United-Airlines/reviews?start=1980\n",
      "https://www.indeed.com/cmp/United-Airlines/reviews?start=2000\n",
      "https://www.indeed.com/cmp/United-Airlines/reviews?start=2020\n",
      "https://www.indeed.com/cmp/United-Airlines/reviews?start=2040\n",
      "https://www.indeed.com/cmp/United-Airlines/reviews?start=2060\n",
      "https://www.indeed.com/cmp/United-Airlines/reviews?start=2080\n",
      "https://www.indeed.com/cmp/United-Airlines/reviews?start=2100\n",
      "https://www.indeed.com/cmp/United-Airlines/reviews?start=2120\n",
      "https://www.indeed.com/cmp/United-Airlines/reviews?start=2140\n",
      "https://www.indeed.com/cmp/United-Airlines/reviews?start=2160\n",
      "https://www.indeed.com/cmp/United-Airlines/reviews?start=2180\n",
      "https://www.indeed.com/cmp/United-Airlines/reviews?start=2200\n",
      "https://www.indeed.com/cmp/United-Airlines/reviews?start=2220\n",
      "https://www.indeed.com/cmp/United-Airlines/reviews?start=2240\n",
      "https://www.indeed.com/cmp/United-Airlines/reviews?start=2260\n",
      "https://www.indeed.com/cmp/United-Airlines/reviews?start=2280\n",
      "https://www.indeed.com/cmp/United-Airlines/reviews?start=2300\n",
      "https://www.indeed.com/cmp/United-Airlines/reviews?start=2320\n",
      "https://www.indeed.com/cmp/United-Airlines/reviews?start=2340\n",
      "https://www.indeed.com/cmp/United-Airlines/reviews?start=2360\n",
      "https://www.indeed.com/cmp/United-Airlines/reviews?start=2380\n"
     ]
    }
   ],
   "source": [
    "#url = 'https://www.indeed.com/cmp/Southwest-Airlines/reviews'\n",
    "review_text=[]\n",
    "review_score=[]\n",
    "designation=[]\n",
    "location=[]\n",
    "date=[]\n",
    "pros=[]\n",
    "cons=[]\n",
    "title=[]\n",
    "last = False\n",
    "cnt=1\n",
    "\n",
    "for url in urls:\n",
    "    print(url)\n",
    "    html = urllib.request.urlopen(url).read().decode('utf-8')\n",
    "    soup = BeautifulSoup(html, \"html5lib\")\n",
    "    infotable = soup.find_all('div', class_=\"cmp-review-container\")\n",
    "    for i in range(0,len(infotable)):\n",
    "        review_text.append(infotable[i].find_all('span',class_='cmp-review-text')[0].getText())\n",
    "        review_score.append(infotable[i].find_all('meta',itemprop='ratingValue')[0].get('content'))\n",
    "        designation.append(infotable[i].find_all('span',class_='cmp-reviewer')[0].getText())\n",
    "        location.append(infotable[i].find_all('span',class_='cmp-reviewer-job-location')[0].getText())\n",
    "        date.append(infotable[i].find_all('span',class_='cmp-review-date-created')[0].getText())\n",
    "        title.append(infotable[i].find_all('div',class_='cmp-review-title')[0].getText())\n",
    "        try:\n",
    "            pros.append(infotable[i].find_all('div',class_='cmp-review-pro-text')[0].getText())            \n",
    "        except:\n",
    "            pros.append('Null')\n",
    "        try:\n",
    "            cons.append(infotable[i].find_all('div',class_='cmp-review-con-text')[0].getText())\n",
    "        except:\n",
    "            cons.append('Null') \n",
    "           \n",
    "    #try:\n",
    "    #soup.find_all('a', class_=\"cmp-Pagination-link cmp-Pagination-link--nav\")[1].get('href') \n",
    "    #url = 'https://www.indeed.com'+ soup.find_all('a', class_=\"cmp-Pagination-link cmp-Pagination-link--nav\")[1].get('href')\n",
    "    #except:\n",
    "     #   last=F\n",
    "    #print(cnt)\n",
    "    cnt+=1 \n"
   ]
  },
  {
   "cell_type": "code",
   "execution_count": 17,
   "metadata": {},
   "outputs": [
    {
     "data": {
      "text/plain": [
       "2513"
      ]
     },
     "execution_count": 17,
     "metadata": {},
     "output_type": "execute_result"
    }
   ],
   "source": [
    "len(pros)"
   ]
  },
  {
   "cell_type": "code",
   "execution_count": 18,
   "metadata": {},
   "outputs": [],
   "source": [
    "outputdf = pd.DataFrame(\n",
    "    {\n",
    "        \"Title\" : title,\n",
    "        \"Review_Text\" : review_text,\n",
    "        \"Review_Score\" : review_score,\n",
    "        \"Designation\"  : designation,\n",
    "        \"Location\"     : location,\n",
    "        \"Date\"         : date,\n",
    "        \"Pros\"         : pros,\n",
    "        \"Cons\"         : cons \n",
    "           \n",
    "        \n",
    "    }\n",
    ")"
   ]
  },
  {
   "cell_type": "code",
   "execution_count": 20,
   "metadata": {},
   "outputs": [],
   "source": [
    "outputdf.to_csv('united_review.csv',index=False)"
   ]
  }
 ],
 "metadata": {
  "kernelspec": {
   "display_name": "Python 3",
   "language": "python",
   "name": "python3"
  },
  "language_info": {
   "codemirror_mode": {
    "name": "ipython",
    "version": 3
   },
   "file_extension": ".py",
   "mimetype": "text/x-python",
   "name": "python",
   "nbconvert_exporter": "python",
   "pygments_lexer": "ipython3",
   "version": "3.6.5"
  }
 },
 "nbformat": 4,
 "nbformat_minor": 2
}
