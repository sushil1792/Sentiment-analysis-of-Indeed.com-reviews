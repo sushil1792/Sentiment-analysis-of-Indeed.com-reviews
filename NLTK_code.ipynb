{
 "cells": [
  {
   "cell_type": "code",
   "execution_count": 1,
   "metadata": {},
   "outputs": [],
   "source": [
    "import pandas as pd\n",
    "import string\n",
    "test_reviews = pd.read_csv(\"all 4.csv\")"
   ]
  },
  {
   "cell_type": "code",
   "execution_count": 6,
   "metadata": {},
   "outputs": [
    {
     "name": "stdout",
     "output_type": "stream",
     "text": [
      "[nltk_data] Downloading package vader_lexicon to\n",
      "[nltk_data]     C:\\Users\\rahul.g\\AppData\\Roaming\\nltk_data...\n"
     ]
    },
    {
     "data": {
      "text/plain": [
       "8923"
      ]
     },
     "execution_count": 6,
     "metadata": {},
     "output_type": "execute_result"
    }
   ],
   "source": [
    "from nltk.sentiment.vader import SentimentIntensityAnalyzer\n",
    "import nltk\n",
    "# nltk.download('vader_lexicon')\n",
    "sentences = []\n",
    "for i in test_reviews['Review_Text']:\n",
    "    sentences.append(i)\n",
    "len(sentences)"
   ]
  },
  {
   "cell_type": "code",
   "execution_count": 7,
   "metadata": {},
   "outputs": [],
   "source": [
    "#Apply existing classifier\n",
    "sid = SentimentIntensityAnalyzer()\n",
    "vader_senti=[]\n",
    "for sentence in sentences:\n",
    "    #print(sentence)\n",
    "#ss is a dictionary\n",
    "    ss = sid.polarity_scores(sentence)\n",
    "#     for k in sorted(ss): #k is the key\n",
    "#         print('{0}: {1}, '.format(k, ss[k]), end='')\n",
    "        #print('{0}: {1}, '.format(k, ss[k]), end='')\n",
    "    vader_senti.append(ss['compound'])\n",
    "#         print()"
   ]
  },
  {
   "cell_type": "code",
   "execution_count": 8,
   "metadata": {},
   "outputs": [],
   "source": [
    "test_reviews['senti'] = vader_senti\n",
    "test_reviews.to_csv('vader.csv')"
   ]
  }
 ],
 "metadata": {
  "kernelspec": {
   "display_name": "Python 3",
   "language": "python",
   "name": "python3"
  },
  "language_info": {
   "codemirror_mode": {
    "name": "ipython",
    "version": 3
   },
   "file_extension": ".py",
   "mimetype": "text/x-python",
   "name": "python",
   "nbconvert_exporter": "python",
   "pygments_lexer": "ipython3",
   "version": "3.6.5"
  }
 },
 "nbformat": 4,
 "nbformat_minor": 2
}
