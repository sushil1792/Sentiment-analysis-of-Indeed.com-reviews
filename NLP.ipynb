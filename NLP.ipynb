{
 "cells": [
  {
   "cell_type": "markdown",
   "metadata": {},
   "source": [
    "## NLTK In Class Excercise"
   ]
  },
  {
   "cell_type": "code",
   "execution_count": 2,
   "metadata": {},
   "outputs": [],
   "source": [
    "import nltk\n",
    "from nltk.corpus import stopwords\n",
    "from nltk.tokenize import sent_tokenize\n",
    "from nltk.tokenize import word_tokenize\n",
    "from nltk.corpus import stopwords\n",
    "# nltk.download('punkt')\n",
    "# nltk.download('stopwords')"
   ]
  },
  {
   "cell_type": "markdown",
   "metadata": {},
   "source": [
    "### Let's also add punctuation to the list of stop words because we don't want that as well."
   ]
  },
  {
   "cell_type": "code",
   "execution_count": 25,
   "metadata": {},
   "outputs": [],
   "source": [
    "import pandas as pd\n",
    "import string\n",
    "test_reviews = pd.read_csv(\"south_west_review.csv\")\n",
    "test_reviews['true_sentiment'] = ['positive' if x == 5 else 'negative' if x <= 2 else 'none' \n",
    "                                  for x in test_reviews.Review_Score]\n",
    "stopwords_list = stopwords.words('english') + list(string.punctuation)\n",
    "\n",
    "test_data = []\n",
    "reviews = list(test_reviews.Review_Text.str.lower())\n",
    "true_sentiment = list(test_reviews.true_sentiment)\n",
    "for i in range(0,len(reviews)):\n",
    "    word_list = word_tokenize(reviews[i])\n",
    "    word_list = [word for word in word_list if word not in stopwords_list]\n",
    "    word_dictionary = dict([(word, True) for word in word_list])\n",
    "    sample_tuple = (word_dictionary,true_sentiment[i])\n",
    "    test_data.append(sample_tuple)"
   ]
  },
  {
   "cell_type": "code",
   "execution_count": 26,
   "metadata": {},
   "outputs": [
    {
     "name": "stdout",
     "output_type": "stream",
     "text": [
      "851\n",
      "1397\n"
     ]
    },
    {
     "data": {
      "text/plain": [
       "0.6091624910522548"
      ]
     },
     "execution_count": 26,
     "metadata": {},
     "output_type": "execute_result"
    }
   ],
   "source": [
    "print(len(test_reviews[test_reviews.true_sentiment == 'positive']))\n",
    "print(len(test_reviews))\n",
    "len(test_reviews[test_reviews.true_sentiment == 'positive'])/len(test_reviews)"
   ]
  },
  {
   "cell_type": "markdown",
   "metadata": {},
   "source": [
    "#### Now we will conduct sentiment analysis on the test reviews using Microsoft Azure text analytics to compare."
   ]
  },
  {
   "cell_type": "code",
   "execution_count": null,
   "metadata": {
    "scrolled": true
   },
   "outputs": [
    {
     "name": "stdout",
     "output_type": "stream",
     "text": [
      "1\n",
      "{'documents': [{'id': '1', 'score': 0.06472092866897583}], 'errors': []}\n",
      "2\n",
      "{'documents': [{'id': '1', 'score': 0.7985153794288635}], 'errors': []}\n",
      "3\n",
      "{'documents': [{'id': '1', 'score': 0.06209379434585571}], 'errors': []}\n",
      "4\n",
      "{'documents': [{'id': '1', 'score': 0.9068057537078857}], 'errors': []}\n",
      "5\n",
      "{'documents': [{'id': '1', 'score': 0.24061641097068787}], 'errors': []}\n",
      "6\n",
      "{'documents': [{'id': '1', 'score': 0.9894037246704102}], 'errors': []}\n",
      "7\n",
      "{'documents': [{'id': '1', 'score': 0.011934995651245117}], 'errors': []}\n",
      "8\n",
      "{'documents': [{'id': '1', 'score': 0.22159379720687866}], 'errors': []}\n",
      "9\n",
      "{'documents': [{'id': '1', 'score': 0.8422805070877075}], 'errors': []}\n",
      "10\n",
      "{'documents': [{'id': '1', 'score': 0.9517775774002075}], 'errors': []}\n",
      "11\n",
      "{'documents': [{'id': '1', 'score': 0.05097442865371704}], 'errors': []}\n",
      "12\n",
      "{'documents': [{'id': '1', 'score': 0.8634535074234009}], 'errors': []}\n",
      "13\n",
      "{'documents': [{'id': '1', 'score': 0.11995288729667664}], 'errors': []}\n",
      "14\n",
      "{'documents': [{'id': '1', 'score': 0.9094672799110413}], 'errors': []}\n",
      "15\n",
      "{'documents': [{'id': '1', 'score': 0.8981658220291138}], 'errors': []}\n",
      "16\n",
      "{'documents': [{'id': '1', 'score': 0.9446054697036743}], 'errors': []}\n",
      "17\n",
      "{'documents': [{'id': '1', 'score': 0.07658651471138}], 'errors': []}\n",
      "18\n",
      "{'documents': [{'id': '1', 'score': 0.9645507335662842}], 'errors': []}\n",
      "19\n",
      "{'documents': [{'id': '1', 'score': 0.8551185131072998}], 'errors': []}\n",
      "20\n",
      "{'documents': [{'id': '1', 'score': 0.979142963886261}], 'errors': []}\n",
      "21\n",
      "{'documents': [{'id': '1', 'score': 0.04318195581436157}], 'errors': []}\n",
      "22\n",
      "{'documents': [{'id': '1', 'score': 0.7619464993476868}], 'errors': []}\n",
      "23\n",
      "{'documents': [{'id': '1', 'score': 0.032861292362213135}], 'errors': []}\n",
      "24\n",
      "{'documents': [{'id': '1', 'score': 0.7526065707206726}], 'errors': []}\n",
      "25\n",
      "{'documents': [{'id': '1', 'score': 0.08615243434906006}], 'errors': []}\n",
      "26\n",
      "{'documents': [{'id': '1', 'score': 0.8939204216003418}], 'errors': []}\n",
      "27\n",
      "{'documents': [{'id': '1', 'score': 0.9786216020584106}], 'errors': []}\n",
      "28\n",
      "{'documents': [{'id': '1', 'score': 0.03539353609085083}], 'errors': []}\n",
      "29\n",
      "{'documents': [{'id': '1', 'score': 0.24198168516159058}], 'errors': []}\n",
      "30\n",
      "{'documents': [{'id': '1', 'score': 0.9804531335830688}], 'errors': []}\n",
      "31\n",
      "{'documents': [{'id': '1', 'score': 0.9670939445495605}], 'errors': []}\n",
      "32\n",
      "{'documents': [{'id': '1', 'score': 0.9905099868774414}], 'errors': []}\n",
      "33\n",
      "{'documents': [{'id': '1', 'score': 0.8564176559448242}], 'errors': []}\n",
      "34\n",
      "{'documents': [{'id': '1', 'score': 0.9483649730682373}], 'errors': []}\n",
      "35\n",
      "{'documents': [{'id': '1', 'score': 0.9241898059844971}], 'errors': []}\n",
      "36\n",
      "{'documents': [{'id': '1', 'score': 0.7748626470565796}], 'errors': []}\n",
      "37\n",
      "{'documents': [{'id': '1', 'score': 0.14832216501235962}], 'errors': []}\n",
      "38\n",
      "{'documents': [{'id': '1', 'score': 0.8221672773361206}], 'errors': []}\n",
      "39\n",
      "{'documents': [{'id': '1', 'score': 0.8573715686798096}], 'errors': []}\n",
      "40\n",
      "{'documents': [{'id': '1', 'score': 0.923832893371582}], 'errors': []}\n",
      "41\n",
      "{'documents': [{'id': '1', 'score': 0.7948803901672363}], 'errors': []}\n",
      "42\n",
      "{'documents': [{'id': '1', 'score': 0.18797123432159424}], 'errors': []}\n",
      "43\n",
      "{'documents': [{'id': '1', 'score': 0.5}], 'errors': []}\n",
      "44\n",
      "{'documents': [{'id': '1', 'score': 0.88190758228302}], 'errors': []}\n",
      "45\n",
      "{'documents': [{'id': '1', 'score': 0.15341687202453613}], 'errors': []}\n",
      "46\n",
      "{'documents': [{'id': '1', 'score': 0.18851643800735474}], 'errors': []}\n",
      "47\n",
      "{'documents': [{'id': '1', 'score': 0.7936440706253052}], 'errors': []}\n",
      "48\n",
      "{'documents': [{'id': '1', 'score': 0.9271934032440186}], 'errors': []}\n",
      "49\n",
      "{'documents': [{'id': '1', 'score': 0.8622231483459473}], 'errors': []}\n",
      "50\n",
      "{'documents': [{'id': '1', 'score': 0.023532450199127197}], 'errors': []}\n",
      "51\n",
      "{'documents': [{'id': '1', 'score': 0.2381414771080017}], 'errors': []}\n",
      "52\n",
      "{'documents': [{'id': '1', 'score': 0.23716723918914795}], 'errors': []}\n",
      "53\n",
      "{'documents': [{'id': '1', 'score': 0.8238784074783325}], 'errors': []}\n",
      "54\n",
      "{'documents': [{'id': '1', 'score': 0.5}], 'errors': []}\n",
      "55\n",
      "{'documents': [{'id': '1', 'score': 0.9812352061271667}], 'errors': []}\n",
      "56\n",
      "{'documents': [{'id': '1', 'score': 0.25054752826690674}], 'errors': []}\n",
      "57\n",
      "{'documents': [{'id': '1', 'score': 0.24538785219192505}], 'errors': []}\n",
      "58\n",
      "{'documents': [{'id': '1', 'score': 0.8234033584594727}], 'errors': []}\n",
      "59\n",
      "{'documents': [{'id': '1', 'score': 0.8684933185577393}], 'errors': []}\n",
      "60\n",
      "{'documents': [{'id': '1', 'score': 0.8822757601737976}], 'errors': []}\n",
      "61\n",
      "{'documents': [{'id': '1', 'score': 0.890265703201294}], 'errors': []}\n",
      "62\n",
      "{'documents': [{'id': '1', 'score': 0.15227484703063965}], 'errors': []}\n",
      "63\n",
      "{'documents': [{'id': '1', 'score': 0.9025559425354004}], 'errors': []}\n",
      "64\n",
      "{'documents': [{'id': '1', 'score': 0.8090182542800903}], 'errors': []}\n",
      "65\n",
      "{'documents': [{'id': '1', 'score': 0.9042458534240723}], 'errors': []}\n",
      "66\n",
      "{'documents': [{'id': '1', 'score': 0.06341001391410828}], 'errors': []}\n",
      "67\n",
      "{'documents': [{'id': '1', 'score': 0.9417492747306824}], 'errors': []}\n",
      "68\n",
      "{'documents': [{'id': '1', 'score': 0.14765748381614685}], 'errors': []}\n",
      "69\n",
      "{'documents': [{'id': '1', 'score': 0.9839586019515991}], 'errors': []}\n",
      "70\n",
      "{'documents': [{'id': '1', 'score': 0.8995044231414795}], 'errors': []}\n",
      "71\n",
      "{'documents': [{'id': '1', 'score': 0.7875472903251648}], 'errors': []}\n",
      "72\n",
      "{'documents': [{'id': '1', 'score': 0.1477254033088684}], 'errors': []}\n",
      "73\n",
      "{'documents': [{'id': '1', 'score': 0.5}], 'errors': []}\n",
      "74\n",
      "{'documents': [{'id': '1', 'score': 0.8744428157806396}], 'errors': []}\n",
      "75\n",
      "{'documents': [{'id': '1', 'score': 0.8897624015808105}], 'errors': []}\n",
      "76\n",
      "{'documents': [{'id': '1', 'score': 0.8142374157905579}], 'errors': []}\n",
      "77\n",
      "{'documents': [{'id': '1', 'score': 0.21814662218093872}], 'errors': []}\n",
      "78\n",
      "{'documents': [{'id': '1', 'score': 0.9534838199615479}], 'errors': []}\n",
      "79\n",
      "{'documents': [{'id': '1', 'score': 0.867167592048645}], 'errors': []}\n",
      "80\n",
      "{'documents': [{'id': '1', 'score': 0.8897252082824707}], 'errors': []}\n",
      "81\n",
      "{'documents': [{'id': '1', 'score': 0.8278000354766846}], 'errors': []}\n",
      "82\n",
      "{'documents': [{'id': '1', 'score': 0.23399358987808228}], 'errors': []}\n",
      "83\n",
      "{'documents': [{'id': '1', 'score': 0.8992321491241455}], 'errors': []}\n",
      "84\n",
      "{'documents': [{'id': '1', 'score': 0.766432523727417}], 'errors': []}\n",
      "85\n",
      "{'documents': [{'id': '1', 'score': 0.7131882905960083}], 'errors': []}\n",
      "86\n"
     ]
    }
   ],
   "source": [
    "yourKey = \"d74e1ee2febf4c308b16bdf2375cd30a\"\n",
    "import requests\n",
    "import time\n",
    "azure_sentiments = []\n",
    "review_number = 1\n",
    "time_counter = time.time()\n",
    "for review in list(test_reviews.Review_Text):\n",
    "    if review_number % 100 == 0:\n",
    "        print(\"waiting\")\n",
    "        print(abs(75 - (time.time() - time_counter)))\n",
    "        time.sleep(abs(75 - (time.time() - time_counter)))\n",
    "        time_counter = time.time()\n",
    "    print(review_number)\n",
    "    review_number+=1\n",
    "    text_analytics_base_url = \"https://eastus.api.cognitive.microsoft.com/text/analytics/v2.0/\"\n",
    "    \n",
    "    sentiment_api_url = text_analytics_base_url + \"sentiment\"\n",
    "    \n",
    "    documents = {'documents' : [{'id': '1', 'language': 'en', 'text': review}]}\n",
    "    \n",
    "    headers   = {\"Ocp-Apim-Subscription-Key\": yourKey}\n",
    "    response  = requests.post(sentiment_api_url, headers=headers, json=documents)\n",
    "    sentiments = response.json()\n",
    "    azure_sentiments.append(sentiments['documents'][0]['score'])\n",
    "    print(sentiments)\n",
    "    "
   ]
  },
  {
   "cell_type": "code",
   "execution_count": 28,
   "metadata": {},
   "outputs": [
    {
     "ename": "ValueError",
     "evalue": "Length of values does not match length of index",
     "output_type": "error",
     "traceback": [
      "\u001b[1;31m---------------------------------------------------------------------------\u001b[0m",
      "\u001b[1;31mValueError\u001b[0m                                Traceback (most recent call last)",
      "\u001b[1;32m<ipython-input-28-fd54511e2f62>\u001b[0m in \u001b[0;36m<module>\u001b[1;34m()\u001b[0m\n\u001b[1;32m----> 1\u001b[1;33m \u001b[0mtest_reviews\u001b[0m\u001b[1;33m[\u001b[0m\u001b[1;34m'sentiment'\u001b[0m\u001b[1;33m]\u001b[0m\u001b[1;33m=\u001b[0m\u001b[0mazure_sentiments\u001b[0m\u001b[1;33m\u001b[0m\u001b[0m\n\u001b[0m",
      "\u001b[1;32m~\\Anaconda3\\lib\\site-packages\\pandas\\core\\frame.py\u001b[0m in \u001b[0;36m__setitem__\u001b[1;34m(self, key, value)\u001b[0m\n\u001b[0;32m   3114\u001b[0m         \u001b[1;32melse\u001b[0m\u001b[1;33m:\u001b[0m\u001b[1;33m\u001b[0m\u001b[0m\n\u001b[0;32m   3115\u001b[0m             \u001b[1;31m# set column\u001b[0m\u001b[1;33m\u001b[0m\u001b[1;33m\u001b[0m\u001b[0m\n\u001b[1;32m-> 3116\u001b[1;33m             \u001b[0mself\u001b[0m\u001b[1;33m.\u001b[0m\u001b[0m_set_item\u001b[0m\u001b[1;33m(\u001b[0m\u001b[0mkey\u001b[0m\u001b[1;33m,\u001b[0m \u001b[0mvalue\u001b[0m\u001b[1;33m)\u001b[0m\u001b[1;33m\u001b[0m\u001b[0m\n\u001b[0m\u001b[0;32m   3117\u001b[0m \u001b[1;33m\u001b[0m\u001b[0m\n\u001b[0;32m   3118\u001b[0m     \u001b[1;32mdef\u001b[0m \u001b[0m_setitem_slice\u001b[0m\u001b[1;33m(\u001b[0m\u001b[0mself\u001b[0m\u001b[1;33m,\u001b[0m \u001b[0mkey\u001b[0m\u001b[1;33m,\u001b[0m \u001b[0mvalue\u001b[0m\u001b[1;33m)\u001b[0m\u001b[1;33m:\u001b[0m\u001b[1;33m\u001b[0m\u001b[0m\n",
      "\u001b[1;32m~\\Anaconda3\\lib\\site-packages\\pandas\\core\\frame.py\u001b[0m in \u001b[0;36m_set_item\u001b[1;34m(self, key, value)\u001b[0m\n\u001b[0;32m   3189\u001b[0m \u001b[1;33m\u001b[0m\u001b[0m\n\u001b[0;32m   3190\u001b[0m         \u001b[0mself\u001b[0m\u001b[1;33m.\u001b[0m\u001b[0m_ensure_valid_index\u001b[0m\u001b[1;33m(\u001b[0m\u001b[0mvalue\u001b[0m\u001b[1;33m)\u001b[0m\u001b[1;33m\u001b[0m\u001b[0m\n\u001b[1;32m-> 3191\u001b[1;33m         \u001b[0mvalue\u001b[0m \u001b[1;33m=\u001b[0m \u001b[0mself\u001b[0m\u001b[1;33m.\u001b[0m\u001b[0m_sanitize_column\u001b[0m\u001b[1;33m(\u001b[0m\u001b[0mkey\u001b[0m\u001b[1;33m,\u001b[0m \u001b[0mvalue\u001b[0m\u001b[1;33m)\u001b[0m\u001b[1;33m\u001b[0m\u001b[0m\n\u001b[0m\u001b[0;32m   3192\u001b[0m         \u001b[0mNDFrame\u001b[0m\u001b[1;33m.\u001b[0m\u001b[0m_set_item\u001b[0m\u001b[1;33m(\u001b[0m\u001b[0mself\u001b[0m\u001b[1;33m,\u001b[0m \u001b[0mkey\u001b[0m\u001b[1;33m,\u001b[0m \u001b[0mvalue\u001b[0m\u001b[1;33m)\u001b[0m\u001b[1;33m\u001b[0m\u001b[0m\n\u001b[0;32m   3193\u001b[0m \u001b[1;33m\u001b[0m\u001b[0m\n",
      "\u001b[1;32m~\\Anaconda3\\lib\\site-packages\\pandas\\core\\frame.py\u001b[0m in \u001b[0;36m_sanitize_column\u001b[1;34m(self, key, value, broadcast)\u001b[0m\n\u001b[0;32m   3386\u001b[0m \u001b[1;33m\u001b[0m\u001b[0m\n\u001b[0;32m   3387\u001b[0m             \u001b[1;31m# turn me into an ndarray\u001b[0m\u001b[1;33m\u001b[0m\u001b[1;33m\u001b[0m\u001b[0m\n\u001b[1;32m-> 3388\u001b[1;33m             \u001b[0mvalue\u001b[0m \u001b[1;33m=\u001b[0m \u001b[0m_sanitize_index\u001b[0m\u001b[1;33m(\u001b[0m\u001b[0mvalue\u001b[0m\u001b[1;33m,\u001b[0m \u001b[0mself\u001b[0m\u001b[1;33m.\u001b[0m\u001b[0mindex\u001b[0m\u001b[1;33m,\u001b[0m \u001b[0mcopy\u001b[0m\u001b[1;33m=\u001b[0m\u001b[1;32mFalse\u001b[0m\u001b[1;33m)\u001b[0m\u001b[1;33m\u001b[0m\u001b[0m\n\u001b[0m\u001b[0;32m   3389\u001b[0m             \u001b[1;32mif\u001b[0m \u001b[1;32mnot\u001b[0m \u001b[0misinstance\u001b[0m\u001b[1;33m(\u001b[0m\u001b[0mvalue\u001b[0m\u001b[1;33m,\u001b[0m \u001b[1;33m(\u001b[0m\u001b[0mnp\u001b[0m\u001b[1;33m.\u001b[0m\u001b[0mndarray\u001b[0m\u001b[1;33m,\u001b[0m \u001b[0mIndex\u001b[0m\u001b[1;33m)\u001b[0m\u001b[1;33m)\u001b[0m\u001b[1;33m:\u001b[0m\u001b[1;33m\u001b[0m\u001b[0m\n\u001b[0;32m   3390\u001b[0m                 \u001b[1;32mif\u001b[0m \u001b[0misinstance\u001b[0m\u001b[1;33m(\u001b[0m\u001b[0mvalue\u001b[0m\u001b[1;33m,\u001b[0m \u001b[0mlist\u001b[0m\u001b[1;33m)\u001b[0m \u001b[1;32mand\u001b[0m \u001b[0mlen\u001b[0m\u001b[1;33m(\u001b[0m\u001b[0mvalue\u001b[0m\u001b[1;33m)\u001b[0m \u001b[1;33m>\u001b[0m \u001b[1;36m0\u001b[0m\u001b[1;33m:\u001b[0m\u001b[1;33m\u001b[0m\u001b[0m\n",
      "\u001b[1;32m~\\Anaconda3\\lib\\site-packages\\pandas\\core\\series.py\u001b[0m in \u001b[0;36m_sanitize_index\u001b[1;34m(data, index, copy)\u001b[0m\n\u001b[0;32m   3996\u001b[0m \u001b[1;33m\u001b[0m\u001b[0m\n\u001b[0;32m   3997\u001b[0m     \u001b[1;32mif\u001b[0m \u001b[0mlen\u001b[0m\u001b[1;33m(\u001b[0m\u001b[0mdata\u001b[0m\u001b[1;33m)\u001b[0m \u001b[1;33m!=\u001b[0m \u001b[0mlen\u001b[0m\u001b[1;33m(\u001b[0m\u001b[0mindex\u001b[0m\u001b[1;33m)\u001b[0m\u001b[1;33m:\u001b[0m\u001b[1;33m\u001b[0m\u001b[0m\n\u001b[1;32m-> 3998\u001b[1;33m         \u001b[1;32mraise\u001b[0m \u001b[0mValueError\u001b[0m\u001b[1;33m(\u001b[0m\u001b[1;34m'Length of values does not match length of '\u001b[0m \u001b[1;34m'index'\u001b[0m\u001b[1;33m)\u001b[0m\u001b[1;33m\u001b[0m\u001b[0m\n\u001b[0m\u001b[0;32m   3999\u001b[0m \u001b[1;33m\u001b[0m\u001b[0m\n\u001b[0;32m   4000\u001b[0m     \u001b[1;32mif\u001b[0m \u001b[0misinstance\u001b[0m\u001b[1;33m(\u001b[0m\u001b[0mdata\u001b[0m\u001b[1;33m,\u001b[0m \u001b[0mABCIndexClass\u001b[0m\u001b[1;33m)\u001b[0m \u001b[1;32mand\u001b[0m \u001b[1;32mnot\u001b[0m \u001b[0mcopy\u001b[0m\u001b[1;33m:\u001b[0m\u001b[1;33m\u001b[0m\u001b[0m\n",
      "\u001b[1;31mValueError\u001b[0m: Length of values does not match length of index"
     ]
    }
   ],
   "source": [
    "test_reviews['sentiment']=azure_sentiments"
   ]
  },
  {
   "cell_type": "code",
   "execution_count": 29,
   "metadata": {},
   "outputs": [
    {
     "data": {
      "text/plain": [
       "0"
      ]
     },
     "execution_count": 29,
     "metadata": {},
     "output_type": "execute_result"
    }
   ],
   "source": [
    "len(azure_sentiments)"
   ]
  },
  {
   "cell_type": "code",
   "execution_count": 24,
   "metadata": {},
   "outputs": [],
   "source": [
    "test_reviews.to_csv('southwest.csv')"
   ]
  },
  {
   "cell_type": "code",
   "execution_count": null,
   "metadata": {
    "scrolled": true
   },
   "outputs": [],
   "source": [
    "azure_sentiment_rating = [\"positive\" if x>0.5 else \"negative\" for x in azure_sentiments]\n",
    "azure_sentiment_rating"
   ]
  },
  {
   "cell_type": "markdown",
   "metadata": {},
   "source": [
    "#### Now count how many are matched divided by the total reviews.  As we can see, the Azure text analytics clearly outperformed the Naive Bayes which we ran using Python NLTK."
   ]
  },
  {
   "cell_type": "code",
   "execution_count": null,
   "metadata": {},
   "outputs": [],
   "source": [
    "azure_correct = 0\n",
    "for i in range(0,len(test_reviews)):\n",
    "    if list(test_reviews.true_sentiment)[i] == azure_sentiment_rating[i]:\n",
    "        azure_correct += 1\n",
    "azure_correct"
   ]
  },
  {
   "cell_type": "code",
   "execution_count": null,
   "metadata": {},
   "outputs": [],
   "source": [
    "azure_correct / len(test_reviews)"
   ]
  }
 ],
 "metadata": {
  "kernelspec": {
   "display_name": "Python 3",
   "language": "python",
   "name": "python3"
  },
  "language_info": {
   "codemirror_mode": {
    "name": "ipython",
    "version": 3
   },
   "file_extension": ".py",
   "mimetype": "text/x-python",
   "name": "python",
   "nbconvert_exporter": "python",
   "pygments_lexer": "ipython3",
   "version": "3.6.5"
  }
 },
 "nbformat": 4,
 "nbformat_minor": 2
}
